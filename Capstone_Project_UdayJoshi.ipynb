{
 "cells": [
  {
   "cell_type": "markdown",
   "metadata": {},
   "source": [
    "<img src=\"http://imgur.com/1ZcRyrc.png\" style=\"float: left; margin: 20px; height: 55px\">\n",
    "\n",
    "# Determining the Cost of Cardiac Inpatients in the State of Vermont\n",
    "\n",
    "Author: Uday Joshi"
   ]
  },
  {
   "cell_type": "markdown",
   "metadata": {},
   "source": [
    "<a id=\"Question\"></a>\n",
    "### Question:\n",
    "\n",
    "What is the cost to treat (in dollars) of male cardiac inpatients aged between 45 years and 60 years?"
   ]
  },
  {
   "cell_type": "markdown",
   "metadata": {},
   "source": [
    "<a id=\"Data Science Hypothesis\"></a>\n",
    "### Data Science Hypothesis(es)\n",
    "\n",
    "* What are the variables in the data frame?\n",
    "* How do I remove null values?\n",
    "* How do I select the variables (columns) that I want to focus on?\n",
    "* How do I rename the variables?\n",
    "* How do I select the age group 45-60?\n",
    "* How do I select Cardiac DRGs?\n",
    "* What does the data (age vs cost) look like on different charts? Bar/Line/Bubble\n",
    "* How do I calculate the regression value using linear multiple regression?\n"
   ]
  },
  {
   "cell_type": "markdown",
   "metadata": {},
   "source": [
    "<a id=\"Data Sets to be used\"></a>\n",
    "### Data sets to be used\n",
    "\n",
    "CSV file to be used that contains hospital inpatient data from the state of Vermont for the years 2011 to 2016. One concern I have is that currently the (unsorted) data has over 300,000 rows of data."
   ]
  },
  {
   "cell_type": "markdown",
   "metadata": {},
   "source": [
    "<a id=\"Data Dictionary\"></a>\n",
    "### Data Dictionary\t\t\t"
   ]
  },
  {
   "cell_type": "markdown",
   "metadata": {},
   "source": [
    "|Data Input|Name|Description|Data Type|\n",
    "|:---------|:---|:----------|:--------|\n",
    "|HNUM2|Hospital Number|Hospital Number|Integer|\n",
    "|ATYPE|Admission Type|Admission Type|Integer|\n",
    "|ASOUR|Admission Source|Admission Source|Integer|\n",
    "|AGEGRP|Age Group|Age Group|Integer|\n",
    "|ZIPGRP|Zip Code Group|Most zip codes groups are the first 3 digits of the zip code|Text|\n",
    "|SEX|Sex|Sex|Integer|\n",
    "|DSTAT|Discharge Status|Discharge Status|Integer|\n",
    "|PPAY|Principal Payment Source|Includes Insurance, Medicaid etc|Integer|\n",
    "|CHRGS|Total Charges|Total Charges (adjusted)|Integer|\n",
    "|SCUDA|SCU Days|Number of days in special care unit|Integer|\n",
    "|DRG|DRG|Diagnosis Related Group|Integer|\n",
    "|HSA|HSA4|Hospital Service Area|Integer|\n",
    "|PDAYS|Patient Days|Discharge Date minus Admission Date|Integer|\n",
    "|SDF|Same Day Flag|Same Day Flag (inpatient only)|Integer|\n",
    "|GROUPER|DRG GROUPER VERSION|Version number corresponding with discharges within a date range (inpatient only)|Integer|\n",
    "|DY|Year of Discharge|For 2000 and later, full data year|Integer|\n",
    "|RECNO|Record Number|Record Number|Integer|\n",
    "|BTYPE|BYTPE|Bill type as designed by the hospital|Integer|\n",
    "|ERFLAG|ERFLAG|Had an associated Emergency Room revenue code|Integer|\n",
    "|STRES|STRES|State of Residence|Integer|\n",
    "|OBSFLAG|OBSFLAG|Had an associated Observation Room revenue code|Integer|\n",
    "|UNIQ|UNIQ|Unique Record Number|Integer|\n",
    "|ADMIN QTR|ADMIN QTR|Admission Quarter|Integer|\n",
    "|DISCD_QTR|DISCD_QTR|Discharge Quarter|Integer|\n",
    "|CHRGS_HCIA|CHRGS_HCIA|Unadjusted Total Charges|Integer|"
   ]
  },
  {
   "cell_type": "markdown",
   "metadata": {},
   "source": [
    "<a id=\"Potential Business Cases\"></a>\n",
    "### Potential business cases relative to project: how would this help businesses out to make money or save money or improve accuracy or make better products"
   ]
  },
  {
   "cell_type": "markdown",
   "metadata": {},
   "source": [
    "In 2016, a report was published in the Journal of the American Medical Association found that in 2013, the average cost in the U.S. was $75,345 for a coronary artery graft surgery, whereas the costs in the Netherlands and Switzerland were $15,742 and $36,509, respectively. An estimated 22 percent of the US population has missed a consultation because they could not afford it compared an average of 11 percent between other countries including Canada, Germany, and Japan. Americans also had the lowest rate of coverage. About 10 percent of the population did not have health insurance in 2016. In the other countries studied, nearly everyone was covered.\n",
    "\n",
    "Heart failure (HF) is prevalent in 5.7 million people in the United States. The cost to treat HF per annum has been estimated to be between $37.2 and $39.2 billion. These figures underestimate the accurate cost of this condition. The reasons for this inaccuracy include an absence in consensus by policy makers, and missing data when HF is the primary diagnosis. There are also discrepancies in the annual pharmaceutical cost estimation for treating HF—likely due to an inability by researchers to parse out drug costs for treating HF vs comorbidities.Recently a new classification scheme was developed for identifying episodes of acute decompensated heart failure, the main driver for inpatient admission for HF.\n",
    "\n",
    "Medicare does not negotiate prices with hospitals but uses an administrative formula that matches payments to the costs facilities should be expected to expend on beneficiaries. Hospitals, hence, do not develop pricing strategies for contracting with Medicare. However, private insurers negotiate rather than impose payments, and hospitals develop strategies with respect to negotiating prices for specific procedures and conditions. There is a minimum price below which a hospital will not contract with private insurers and a maximum price above which private insurers will not contract with a hospital, but there may exist considerable space between these pricing extremes. Therefore, it would be beneficial for hospitals to be able to predict the cost of care in order to reach a profitable rate with both private insurance companies and medicare patients. "
   ]
  },
  {
   "cell_type": "markdown",
   "metadata": {},
   "source": [
    "### Potential stakeholders who would find this interesting: who would be your ideal customer or client for this?"
   ]
  },
  {
   "cell_type": "markdown",
   "metadata": {},
   "source": [
    "The hospital that has the greatest number of cardiac inpatient discharges in the state of Vermont. This information would enable them to allocate resources and capacity accordingly. "
   ]
  },
  {
   "cell_type": "markdown",
   "metadata": {},
   "source": [
    "### Potential places to share your results post project (client, world, website, blog)\n",
    "\n",
    "The results could be shared with the Vermont hospital system as well as insurance companies who could use the information to adjust their pricing strategy. The results could also be shared with the academic world via an academic journal."
   ]
  },
  {
   "cell_type": "code",
   "execution_count": null,
   "metadata": {},
   "outputs": [],
   "source": []
  }
 ],
 "metadata": {
  "kernelspec": {
   "display_name": "Python 3",
   "language": "python",
   "name": "python3"
  },
  "language_info": {
   "codemirror_mode": {
    "name": "ipython",
    "version": 3
   },
   "file_extension": ".py",
   "mimetype": "text/x-python",
   "name": "python",
   "nbconvert_exporter": "python",
   "pygments_lexer": "ipython3",
   "version": "3.6.5"
  }
 },
 "nbformat": 4,
 "nbformat_minor": 2
}
